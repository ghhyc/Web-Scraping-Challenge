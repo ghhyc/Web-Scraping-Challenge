{
 "cells": [
  {
   "cell_type": "markdown",
   "id": "95470889",
   "metadata": {},
   "source": [
    "# Web Scraping Homework - Mission to Mars\n",
    "\n",
    "![mission_to_mars](Images/mission_to_mars.png)"
   ]
  },
  {
   "cell_type": "code",
   "execution_count": 6,
   "id": "e96013de",
   "metadata": {},
   "outputs": [],
   "source": [
    "from bs4 import BeautifulSoup\n",
    "from splinter import Browser\n",
    "from webdriver_manager.chrome import ChromeDriverManager\n",
    "import pandas as pd\n",
    "import requests, pymongo, time, os\n"
   ]
  },
  {
   "cell_type": "code",
   "execution_count": 7,
   "id": "ff9e11c4",
   "metadata": {
    "scrolled": false
   },
   "outputs": [
    {
     "name": "stderr",
     "output_type": "stream",
     "text": [
      "\n",
      "\n",
      "====== WebDriver manager ======\n",
      "Current google-chrome version is 96.0.4664\n",
      "Get LATEST chromedriver version for 96.0.4664 google-chrome\n",
      "Driver [C:\\Users\\y2\\.wdm\\drivers\\chromedriver\\win32\\96.0.4664.45\\chromedriver.exe] found in cache\n"
     ]
    }
   ],
   "source": [
    "\n",
    "#Setup configuration variables to enable Splinter to interact with browser \n",
    "executable_path = {'executable_path': ChromeDriverManager().install()}\n",
    "browser = Browser('chrome', **executable_path, headless=False)"
   ]
  },
  {
   "cell_type": "markdown",
   "id": "68c1b3c3",
   "metadata": {},
   "source": [
    "## Step 1 - Scraping\n",
    "\n",
    "Complete your initial scraping\n",
    "Pandas, and Requests/Splinter."
   ]
  },
  {
   "cell_type": "markdown",
   "id": "edff9682",
   "metadata": {},
   "source": [
    "### NASA Mars News\n",
    "* Scrape the [Mars News Site](https://redplanetscience.com/) and \n",
    "collect the latest News Title and Paragraph Text. \n",
    "\n"
   ]
  },
  {
   "cell_type": "code",
   "execution_count": 8,
   "id": "7a147807",
   "metadata": {},
   "outputs": [],
   "source": [
    "def scrape_news(bro):\n",
    "    \n",
    "    # Visit the mars nasa news site\n",
    "    # URL of page to be scraped\n",
    "    url='https://redplanetscience.com/'\n",
    "\n",
    "    # Use the browser to visit the url\n",
    "\n",
    "    bro.visit(url)\n",
    "\n",
    "    # Wait for 5 seconds for error purpouses\n",
    "    time.sleep(5)\n",
    "\n",
    "    # Return the rendered page by the browser\n",
    "    html_nasa = bro.html\n",
    "\n",
    "    # Use beatifulsoup to scrap the page rendered by the browser\n",
    "    soup = BeautifulSoup(html_nasa, 'html.parser')\n",
    "\n",
    "    # Search for the div where the title is located\n",
    "    # Retrieve the news title\n",
    "    results = soup.find_all('div', class_=\"content_title\")\n",
    "    news_title = results[0].text\n",
    "    #?\n",
    "    news_p = results[1].text\n",
    "    #?    \n",
    "\n",
    "    # Search for the div where the paragraph news is located\n",
    "    results = soup.find_all('div', class_=\"article_teaser_body\")\n",
    "    new_p = results[0].text\n",
    "    #print(f\"Paragraph: {new_p}\")\n",
    "\n",
    "    # Step 1 - Scraping\n",
    "    # Create a empty dictionary to store the data\n",
    "    scraped_data = {\n",
    "        'news_title':news_title,\n",
    "        'news_p':news_p    \n",
    "\n",
    "    }\n",
    "    return scraped_data"
   ]
  },
  {
   "cell_type": "code",
   "execution_count": 12,
   "id": "5e5041eb",
   "metadata": {},
   "outputs": [],
   "source": [
    "def scrape_all(browser):\n",
    "    this=scrape_news(browser)\n",
    "    this_dict = {\n",
    "        \"news_title\" : this['news_title'],\n",
    "        \"news_p\" : this['news_p'],\n",
    "# run scrape_feature function and store return as dict value\n",
    "        \"feature_image_url\" : scrape_feature(browser) \n",
    "        \n",
    "    }\n",
    "    return this_dict"
   ]
  },
  {
   "cell_type": "code",
   "execution_count": 13,
   "id": "22a2db23",
   "metadata": {},
   "outputs": [],
   "source": [
    "#print(scrape_all(browser))"
   ]
  },
  {
   "cell_type": "markdown",
   "id": "ba57daec",
   "metadata": {},
   "source": [
    "\n",
    "### JPL Mars Space Images - Featured Image\n",
    "\n",
    "* Visit the url for the Featured Space Image site [here](https://spaceimages\n",
    "\n",
    "* Use splinter to navigate the site and find the image url for the current F\n",
    "Image and assign the url string to a variable called `featured_image_url`.\n",
    "\n",
    "* Make sure to find the image url to the full size `.jpg` image.\n",
    "\n",
    "* Make sure to save a complete url string for this image.\n",
    "\n",
    "```python\n",
    "# Example:\n",
    "featured_image_url = 'https://spaceimages-mars.com/image/featured/mars2.jpg'\n"
   ]
  },
  {
   "cell_type": "code",
   "execution_count": 14,
   "id": "637f3dd7",
   "metadata": {},
   "outputs": [],
   "source": [
    "def scrape_feature(brow):\n",
    "    \n",
    "    # URL for JPL Nasa websit-visit\n",
    "    url_jpl = \"https://www.spaceimages-mars.com\"\n",
    "    # Use the browser to visit the url\n",
    "    brow.visit(url_jpl) \n",
    "\n",
    "    full_image_elem = browser.find_by_tag('button')[1]\n",
    "    full_image_elem.click()\n",
    "\n",
    "    html_jpl = brow.html\n",
    "    soup = BeautifulSoup(html_jpl, 'html.parser')\n",
    "\n",
    "    # Featured image is in the div class=\"???\"\n",
    "    space_images = soup.find('img', class_=\"fancybox-image\").get(\"src\")\n",
    "    \n",
    "    # The url for JPL Featured Space Image - at end\n",
    "\n",
    "    # Full url\n",
    "    feature_image_url = f\"{url_jpl}{space_images}\"\n",
    "\n",
    "    return feature_image_url"
   ]
  },
  {
   "cell_type": "markdown",
   "id": "b30f24d9",
   "metadata": {},
   "source": [
    "### Mars Facts\n",
    "\n",
    "* Visit the Mars Facts webpage [here](https://galaxyfact\n",
    "the table containing facts about the planet including Di\n",
    "\n",
    "* Use Pandas to convert the data to a HTML table string.\n",
    "\n"
   ]
  },
  {
   "cell_type": "code",
   "execution_count": 15,
   "id": "6b3a7f6d",
   "metadata": {},
   "outputs": [],
   "source": [
    "# URL\n",
    "url_mars_facts = \"https://space-facts.com/mars/\""
   ]
  },
  {
   "cell_type": "code",
   "execution_count": 16,
   "id": "2f058748",
   "metadata": {
    "scrolled": false
   },
   "outputs": [
    {
     "data": {
      "text/html": [
       "<div>\n",
       "<style scoped>\n",
       "    .dataframe tbody tr th:only-of-type {\n",
       "        vertical-align: middle;\n",
       "    }\n",
       "\n",
       "    .dataframe tbody tr th {\n",
       "        vertical-align: top;\n",
       "    }\n",
       "\n",
       "    .dataframe thead th {\n",
       "        text-align: right;\n",
       "    }\n",
       "</style>\n",
       "<table border=\"1\" class=\"dataframe\">\n",
       "  <thead>\n",
       "    <tr style=\"text-align: right;\">\n",
       "      <th></th>\n",
       "      <th>Mars - Earth Comparison</th>\n",
       "      <th>Mars</th>\n",
       "      <th>Earth</th>\n",
       "    </tr>\n",
       "  </thead>\n",
       "  <tbody>\n",
       "    <tr>\n",
       "      <th>0</th>\n",
       "      <td>Diameter:</td>\n",
       "      <td>6,779 km</td>\n",
       "      <td>12,742 km</td>\n",
       "    </tr>\n",
       "    <tr>\n",
       "      <th>1</th>\n",
       "      <td>Mass:</td>\n",
       "      <td>6.39 × 10^23 kg</td>\n",
       "      <td>5.97 × 10^24 kg</td>\n",
       "    </tr>\n",
       "    <tr>\n",
       "      <th>2</th>\n",
       "      <td>Moons:</td>\n",
       "      <td>2</td>\n",
       "      <td>1</td>\n",
       "    </tr>\n",
       "    <tr>\n",
       "      <th>3</th>\n",
       "      <td>Distance from Sun:</td>\n",
       "      <td>227,943,824 km</td>\n",
       "      <td>149,598,262 km</td>\n",
       "    </tr>\n",
       "    <tr>\n",
       "      <th>4</th>\n",
       "      <td>Length of Year:</td>\n",
       "      <td>687 Earth days</td>\n",
       "      <td>365.24 days</td>\n",
       "    </tr>\n",
       "    <tr>\n",
       "      <th>5</th>\n",
       "      <td>Temperature:</td>\n",
       "      <td>-87 to -5 °C</td>\n",
       "      <td>-88 to 58°C</td>\n",
       "    </tr>\n",
       "  </tbody>\n",
       "</table>\n",
       "</div>"
      ],
      "text/plain": [
       "  Mars - Earth Comparison             Mars            Earth\n",
       "0               Diameter:         6,779 km        12,742 km\n",
       "1                   Mass:  6.39 × 10^23 kg  5.97 × 10^24 kg\n",
       "2                  Moons:                2                1\n",
       "3      Distance from Sun:   227,943,824 km   149,598,262 km\n",
       "4         Length of Year:   687 Earth days      365.24 days\n",
       "5            Temperature:     -87 to -5 °C      -88 to 58°C"
      ]
     },
     "execution_count": 16,
     "metadata": {},
     "output_type": "execute_result"
    }
   ],
   "source": [
    "# Use Pandas to automatically scrape any tabular data from a page.\n",
    "mars_facts = pd.read_html(url_mars_facts)\n",
    "mars_df = mars_facts[1]\n",
    "(mars_df)\n",
    "#How many tables are available\n",
    "#len(mars_facts)\n"
   ]
  },
  {
   "cell_type": "code",
   "execution_count": 17,
   "id": "427d6ee7",
   "metadata": {},
   "outputs": [
    {
     "name": "stderr",
     "output_type": "stream",
     "text": [
      "<ipython-input-17-608bc50bf2b9>:1: UserWarning: Pandas doesn't allow columns to be created via a new attribute name - see https://pandas.pydata.org/pandas-docs/stable/indexing.html#attribute-access\n",
      "  mars_df.colums=['Mars - Earth Comparison','Mars','Earth']\n"
     ]
    },
    {
     "data": {
      "text/html": [
       "<div>\n",
       "<style scoped>\n",
       "    .dataframe tbody tr th:only-of-type {\n",
       "        vertical-align: middle;\n",
       "    }\n",
       "\n",
       "    .dataframe tbody tr th {\n",
       "        vertical-align: top;\n",
       "    }\n",
       "\n",
       "    .dataframe thead th {\n",
       "        text-align: right;\n",
       "    }\n",
       "</style>\n",
       "<table border=\"1\" class=\"dataframe\">\n",
       "  <thead>\n",
       "    <tr style=\"text-align: right;\">\n",
       "      <th></th>\n",
       "      <th>Mars</th>\n",
       "      <th>Earth</th>\n",
       "    </tr>\n",
       "    <tr>\n",
       "      <th>Mars - Earth Comparison</th>\n",
       "      <th></th>\n",
       "      <th></th>\n",
       "    </tr>\n",
       "  </thead>\n",
       "  <tbody>\n",
       "    <tr>\n",
       "      <th>Diameter:</th>\n",
       "      <td>6,779 km</td>\n",
       "      <td>12,742 km</td>\n",
       "    </tr>\n",
       "    <tr>\n",
       "      <th>Mass:</th>\n",
       "      <td>6.39 × 10^23 kg</td>\n",
       "      <td>5.97 × 10^24 kg</td>\n",
       "    </tr>\n",
       "    <tr>\n",
       "      <th>Moons:</th>\n",
       "      <td>2</td>\n",
       "      <td>1</td>\n",
       "    </tr>\n",
       "    <tr>\n",
       "      <th>Distance from Sun:</th>\n",
       "      <td>227,943,824 km</td>\n",
       "      <td>149,598,262 km</td>\n",
       "    </tr>\n",
       "    <tr>\n",
       "      <th>Length of Year:</th>\n",
       "      <td>687 Earth days</td>\n",
       "      <td>365.24 days</td>\n",
       "    </tr>\n",
       "    <tr>\n",
       "      <th>Temperature:</th>\n",
       "      <td>-87 to -5 °C</td>\n",
       "      <td>-88 to 58°C</td>\n",
       "    </tr>\n",
       "  </tbody>\n",
       "</table>\n",
       "</div>"
      ],
      "text/plain": [
       "                                    Mars            Earth\n",
       "Mars - Earth Comparison                                  \n",
       "Diameter:                       6,779 km        12,742 km\n",
       "Mass:                    6.39 × 10^23 kg  5.97 × 10^24 kg\n",
       "Moons:                                 2                1\n",
       "Distance from Sun:        227,943,824 km   149,598,262 km\n",
       "Length of Year:           687 Earth days      365.24 days\n",
       "Temperature:                -87 to -5 °C      -88 to 58°C"
      ]
     },
     "execution_count": 17,
     "metadata": {},
     "output_type": "execute_result"
    }
   ],
   "source": [
    "mars_df.colums=['Mars - Earth Comparison','Mars','Earth']\n",
    "mars_df.set_index('Mars - Earth Comparison',inplace=True)\n",
    "mars_df"
   ]
  },
  {
   "cell_type": "code",
   "execution_count": 18,
   "id": "76752e47",
   "metadata": {},
   "outputs": [
    {
     "data": {
      "text/plain": [
       "'<table border=\"1\" class=\"dataframe\">\\n  <thead>\\n    <tr style=\"text-align: right;\">\\n      <th></th>\\n      <th>Mars</th>\\n      <th>Earth</th>\\n    </tr>\\n    <tr>\\n      <th>Mars - Earth Comparison</th>\\n      <th></th>\\n      <th></th>\\n    </tr>\\n  </thead>\\n  <tbody>\\n    <tr>\\n      <th>Diameter:</th>\\n      <td>6,779 km</td>\\n      <td>12,742 km</td>\\n    </tr>\\n    <tr>\\n      <th>Mass:</th>\\n      <td>6.39 × 10^23 kg</td>\\n      <td>5.97 × 10^24 kg</td>\\n    </tr>\\n    <tr>\\n      <th>Moons:</th>\\n      <td>2</td>\\n      <td>1</td>\\n    </tr>\\n    <tr>\\n      <th>Distance from Sun:</th>\\n      <td>227,943,824 km</td>\\n      <td>149,598,262 km</td>\\n    </tr>\\n    <tr>\\n      <th>Length of Year:</th>\\n      <td>687 Earth days</td>\\n      <td>365.24 days</td>\\n    </tr>\\n    <tr>\\n      <th>Temperature:</th>\\n      <td>-87 to -5 °C</td>\\n      <td>-88 to 58°C</td>\\n    </tr>\\n  </tbody>\\n</table>'"
      ]
     },
     "execution_count": 18,
     "metadata": {},
     "output_type": "execute_result"
    }
   ],
   "source": [
    "mars_df.to_html()"
   ]
  },
  {
   "cell_type": "markdown",
   "id": "c57c8118",
   "metadata": {},
   "source": [
    "### Mars Hemispheres\n",
    "\n",
    "* Visit the astrogeology site [here](https://marshemispheres.com/) to \n",
    "obtain high resolution images for each of Mar's hemispheres.\n",
    "\n",
    "* You will need to click each of the links to the hemispheres in order \n",
    "to find the image url to the full resolution image.\n",
    "\n",
    "* Save both the image url string for the full resolution hemisphere \n",
    "image, and the Hemisphere title containing the hemisphere name. Use a \n",
    "Python dictionary to store the data using the keys `img_url` and \n",
    "`title`.\n",
    "\n",
    "* Append the dictionary with the image url string and the hemisphere \n",
    "title to a list. This list will contain one dictionary for each \n",
    "hemisphere.\n"
   ]
  },
  {
   "cell_type": "code",
   "execution_count": 19,
   "id": "da9c8cba",
   "metadata": {},
   "outputs": [],
   "source": [
    "# URL of page to be scraped\n",
    "url_mars_hemispheres='https://marshemispheres.com/'\n",
    "\n",
    "# Use the browser to visit the url\n",
    "browser.visit(url_mars_hemispheres)"
   ]
  },
  {
   "cell_type": "code",
   "execution_count": 20,
   "id": "fed7a901",
   "metadata": {},
   "outputs": [],
   "source": [
    "browser.find_by_css('a.product-item img')[0].click()"
   ]
  },
  {
   "cell_type": "code",
   "execution_count": 21,
   "id": "c6e622ba",
   "metadata": {},
   "outputs": [
    {
     "data": {
      "text/plain": [
       "'Cerberus Hemisphere Enhanced'"
      ]
     },
     "execution_count": 21,
     "metadata": {},
     "output_type": "execute_result"
    }
   ],
   "source": [
    "browser.find_by_css('h2.title').text"
   ]
  },
  {
   "cell_type": "code",
   "execution_count": 22,
   "id": "49eb87c9",
   "metadata": {},
   "outputs": [
    {
     "ename": "NameError",
     "evalue": "name 'sample' is not defined",
     "output_type": "error",
     "traceback": [
      "\u001b[1;31m---------------------------------------------------------------------------\u001b[0m",
      "\u001b[1;31mNameError\u001b[0m                                 Traceback (most recent call last)",
      "\u001b[1;32m<ipython-input-22-a4eb2e80b6d1>\u001b[0m in \u001b[0;36m<module>\u001b[1;34m\u001b[0m\n\u001b[1;32m----> 1\u001b[1;33m \u001b[0msample\u001b[0m\u001b[1;33m[\u001b[0m\u001b[1;34m'href'\u001b[0m\u001b[1;33m]\u001b[0m\u001b[1;33m\u001b[0m\u001b[1;33m\u001b[0m\u001b[0m\n\u001b[0m",
      "\u001b[1;31mNameError\u001b[0m: name 'sample' is not defined"
     ]
    }
   ],
   "source": [
    "sample['href']"
   ]
  },
  {
   "cell_type": "code",
   "execution_count": 23,
   "id": "5af6bfa7",
   "metadata": {},
   "outputs": [],
   "source": [
    "browser.back()"
   ]
  },
  {
   "cell_type": "code",
   "execution_count": 24,
   "id": "7ffdc28d",
   "metadata": {},
   "outputs": [],
   "source": [
    "# Create a list with the name of the hemispheres\n",
    "list_hemispheres = []\n",
    "\n",
    "links=browser.find_by_css('a.product-item img')\n",
    "\n",
    "\n",
    "for i in range(len(links)):\n",
    "    hemis={}\n",
    "    browser.find_by_css('a.product-item img')[i].click()\n",
    "    sample=browser.links.find_by_text('Sample').first\n",
    "    hemis['url']=sample['href']\n",
    "    hemis['title']=browser.find_by_css('h2.title').text\n",
    "    \n",
    "    list_hemispheres.append(hemis)\n",
    "    browser.back()\n",
    " "
   ]
  },
  {
   "cell_type": "code",
   "execution_count": 25,
   "id": "8f617b16",
   "metadata": {},
   "outputs": [
    {
     "data": {
      "text/plain": [
       "[{'url': 'https://marshemispheres.com/images/full.jpg',\n",
       "  'title': 'Cerberus Hemisphere Enhanced'},\n",
       " {'url': 'https://marshemispheres.com/images/schiaparelli_enhanced-full.jpg',\n",
       "  'title': 'Schiaparelli Hemisphere Enhanced'},\n",
       " {'url': 'https://marshemispheres.com/images/syrtis_major_enhanced-full.jpg',\n",
       "  'title': 'Syrtis Major Hemisphere Enhanced'},\n",
       " {'url': 'https://marshemispheres.com/images/valles_marineris_enhanced-full.jpg',\n",
       "  'title': 'Valles Marineris Hemisphere Enhanced'}]"
      ]
     },
     "execution_count": 25,
     "metadata": {},
     "output_type": "execute_result"
    }
   ],
   "source": [
    "list_hemispheres"
   ]
  },
  {
   "cell_type": "code",
   "execution_count": 26,
   "id": "b9d7e947",
   "metadata": {},
   "outputs": [],
   "source": [
    "# When you’ve finished testing, close your browser using browser.quit:\n",
    "browser.quit()"
   ]
  },
  {
   "cell_type": "code",
   "execution_count": null,
   "id": "9fc0106c",
   "metadata": {},
   "outputs": [],
   "source": []
  }
 ],
 "metadata": {
  "kernelspec": {
   "display_name": "Python 3",
   "language": "python",
   "name": "python3"
  },
  "language_info": {
   "codemirror_mode": {
    "name": "ipython",
    "version": 3
   },
   "file_extension": ".py",
   "mimetype": "text/x-python",
   "name": "python",
   "nbconvert_exporter": "python",
   "pygments_lexer": "ipython3",
   "version": "3.8.8"
  }
 },
 "nbformat": 4,
 "nbformat_minor": 5
}
