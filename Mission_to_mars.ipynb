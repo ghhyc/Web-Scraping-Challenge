{
 "cells": [
  {
   "cell_type": "markdown",
   "id": "95470889",
   "metadata": {},
   "source": [
    "# Web Scraping Homework - Mission to Mars\n",
    "\n",
    "![mission_to_mars](Images/mission_to_mars.png)"
   ]
  },
  {
   "cell_type": "code",
   "execution_count": 1,
   "id": "e96013de",
   "metadata": {},
   "outputs": [],
   "source": [
    "from bs4 import BeautifulSoup\n",
    "from splinter import Browser\n",
    "from webdriver_manager.chrome import ChromeDriverManager\n",
    "import pandas as pd\n",
    "import requests, pymongo, time, os\n"
   ]
  },
  {
   "cell_type": "code",
   "execution_count": 2,
   "id": "ff9e11c4",
   "metadata": {
    "scrolled": false
   },
   "outputs": [
    {
     "name": "stderr",
     "output_type": "stream",
     "text": [
      "\n",
      "\n",
      "====== WebDriver manager ======\n",
      "Current google-chrome version is 97.0.4692\n",
      "Get LATEST chromedriver version for 97.0.4692 google-chrome\n",
      "Driver [C:\\Users\\y2\\.wdm\\drivers\\chromedriver\\win32\\97.0.4692.71\\chromedriver.exe] found in cache\n"
     ]
    }
   ],
   "source": [
    "\n",
    "#Setup configuration variables to enable Splinter to interact with browser \n",
    "executable_path = {'executable_path': ChromeDriverManager().install()}\n",
    "browser = Browser('chrome', **executable_path, headless=True)"
   ]
  },
  {
   "cell_type": "markdown",
   "id": "68c1b3c3",
   "metadata": {},
   "source": [
    "## Step 1 - Scraping\n",
    "\n",
    "Complete your initial scraping\n",
    "Pandas, and Requests/Splinter."
   ]
  },
  {
   "cell_type": "markdown",
   "id": "edff9682",
   "metadata": {},
   "source": [
    "### NASA Mars News\n",
    "* Scrape the [Mars News Site](https://redplanetscience.com/) and \n",
    "collect the latest News Title and Paragraph Text. \n",
    "\n"
   ]
  },
  {
   "cell_type": "code",
   "execution_count": 3,
   "id": "7a147807",
   "metadata": {},
   "outputs": [
    {
     "name": "stdout",
     "output_type": "stream",
     "text": [
      "{'news_title': 'With Mars Methane Mystery Unsolved, Curiosity Serves Scientists a New One: Oxygen', 'news_p': 'For the first time in the history of space exploration, scientists have measured the seasonal changes in the gases that fill the air directly above the surface of Gale Crater on Mars. '}\n"
     ]
    },
    {
     "data": {
      "text/plain": [
       "{'news_title': 'With Mars Methane Mystery Unsolved, Curiosity Serves Scientists a New One: Oxygen',\n",
       " 'news_p': 'For the first time in the history of space exploration, scientists have measured the seasonal changes in the gases that fill the air directly above the surface of Gale Crater on Mars. '}"
      ]
     },
     "execution_count": 3,
     "metadata": {},
     "output_type": "execute_result"
    }
   ],
   "source": [
    "def scrape_news(bro):\n",
    "    \n",
    "    # Visit the mars nasa news site\n",
    "    # URL of page to be scraped\n",
    "    url='https://redplanetscience.com/'\n",
    "\n",
    "    # Use the browser to visit the url\n",
    "\n",
    "    bro.visit(url)\n",
    "\n",
    "    # Wait for 5 seconds for error purpouses\n",
    "    time.sleep(5)\n",
    "\n",
    "    # Return the rendered page by the browser\n",
    "    html_nasa = bro.html\n",
    "\n",
    "    # Use beatifulsoup to scrap the page rendered by the browser\n",
    "    soup = BeautifulSoup(html_nasa, 'html.parser')\n",
    "\n",
    "    # Search for the div where the title is located\n",
    "    # Retrieve the news title\n",
    "    results = soup.find_all('div', class_=\"content_title\")\n",
    "    news_title = results[0].text\n",
    "    #?\n",
    "    news_p = results[1].text\n",
    "    #?    \n",
    "\n",
    "    # Search for the div where the paragraph news is located\n",
    "    results = soup.find_all('div', class_=\"article_teaser_body\")\n",
    "    news_p = results[0].text\n",
    "    #print(f\"Paragraph: {new_p}\")\n",
    "\n",
    "    # Step 1 - Scraping\n",
    "    # Create a empty dictionary to store the data\n",
    "    scraped_data = {\n",
    "        'news_title':news_title,\n",
    "        'news_p':news_p    \n",
    "\n",
    "    }\n",
    "    print(scraped_data)\n",
    "    return scraped_data\n",
    "\n",
    "\n",
    "scrape_news(browser)"
   ]
  },
  {
   "cell_type": "code",
   "execution_count": 11,
   "id": "5e5041eb",
   "metadata": {},
   "outputs": [
    {
     "name": "stdout",
     "output_type": "stream",
     "text": [
      "{'news_title': 'NASA Mars Mission Connects With Bosnian and Herzegovinian Town', 'news_p': 'A letter from NASA was presented to the mayor of Jezero, Bosnia-Herzegovina, honoring the connection between the town and Jezero Crater, the Mars 2020 rover landing site.'}\n",
      "https://www.spaceimages-mars.comimage/featured/mars1.jpg\n",
      "                                    Mars            Earth\n",
      "Mars - Earth Comparison                                  \n",
      "Diameter:                       6,779 km        12,742 km\n",
      "Mass:                    6.39 × 10^23 kg  5.97 × 10^24 kg\n",
      "Moons:                                 2                1\n",
      "Distance from Sun:        227,943,824 km   149,598,262 km\n",
      "Length of Year:           687 Earth days      365.24 days\n",
      "Temperature:                -87 to -5 °C      -88 to 58°C\n",
      "{'news_title': 'NASA Mars Mission Connects With Bosnian and Herzegovinian Town', 'news_p': 'A letter from NASA was presented to the mayor of Jezero, Bosnia-Herzegovina, honoring the connection between the town and Jezero Crater, the Mars 2020 rover landing site.', 'feature_image_url': 'https://www.spaceimages-mars.comimage/featured/mars1.jpg', 'hemispheres': [{'url': 'https://marshemispheres.com/images/full.jpg', 'title': 'Cerberus Hemisphere Enhanced'}, {'url': 'https://marshemispheres.com/images/schiaparelli_enhanced-full.jpg', 'title': 'Schiaparelli Hemisphere Enhanced'}, {'url': 'https://marshemispheres.com/images/syrtis_major_enhanced-full.jpg', 'title': 'Syrtis Major Hemisphere Enhanced'}, {'url': 'https://marshemispheres.com/images/valles_marineris_enhanced-full.jpg', 'title': 'Valles Marineris Hemisphere Enhanced'}], 'table_html':                                     Mars            Earth\n",
      "Mars - Earth Comparison                                  \n",
      "Diameter:                       6,779 km        12,742 km\n",
      "Mass:                    6.39 × 10^23 kg  5.97 × 10^24 kg\n",
      "Moons:                                 2                1\n",
      "Distance from Sun:        227,943,824 km   149,598,262 km\n",
      "Length of Year:           687 Earth days      365.24 days\n",
      "Temperature:                -87 to -5 °C      -88 to 58°C}\n"
     ]
    },
    {
     "data": {
      "text/plain": [
       "{'news_title': 'NASA Mars Mission Connects With Bosnian and Herzegovinian Town',\n",
       " 'news_p': 'A letter from NASA was presented to the mayor of Jezero, Bosnia-Herzegovina, honoring the connection between the town and Jezero Crater, the Mars 2020 rover landing site.',\n",
       " 'feature_image_url': 'https://www.spaceimages-mars.comimage/featured/mars1.jpg',\n",
       " 'hemispheres': [{'url': 'https://marshemispheres.com/images/full.jpg',\n",
       "   'title': 'Cerberus Hemisphere Enhanced'},\n",
       "  {'url': 'https://marshemispheres.com/images/schiaparelli_enhanced-full.jpg',\n",
       "   'title': 'Schiaparelli Hemisphere Enhanced'},\n",
       "  {'url': 'https://marshemispheres.com/images/syrtis_major_enhanced-full.jpg',\n",
       "   'title': 'Syrtis Major Hemisphere Enhanced'},\n",
       "  {'url': 'https://marshemispheres.com/images/valles_marineris_enhanced-full.jpg',\n",
       "   'title': 'Valles Marineris Hemisphere Enhanced'}],\n",
       " 'table_html':                                     Mars            Earth\n",
       " Mars - Earth Comparison                                  \n",
       " Diameter:                       6,779 km        12,742 km\n",
       " Mass:                    6.39 × 10^23 kg  5.97 × 10^24 kg\n",
       " Moons:                                 2                1\n",
       " Distance from Sun:        227,943,824 km   149,598,262 km\n",
       " Length of Year:           687 Earth days      365.24 days\n",
       " Temperature:                -87 to -5 °C      -88 to 58°C}"
      ]
     },
     "execution_count": 11,
     "metadata": {},
     "output_type": "execute_result"
    }
   ],
   "source": [
    "\n",
    "def scrape_all(browser):\n",
    "    this=scrape_news(browser)\n",
    "    this_dict = {\n",
    "        \"news_title\" : this['news_title'],\n",
    "        \"news_p\" : this['news_p'],\n",
    "        \"feature_image_url\" : scrape_feature(browser),\n",
    "        \"hemispheres\" : scrape_hemis(browser),\n",
    "        \"table_html\" : scrape_mars_facts(browser)\n",
    "            }\n",
    "    print(this_dict)\n",
    "    return this_dict\n",
    "\n",
    "scrape_all(browser)"
   ]
  },
  {
   "cell_type": "markdown",
   "id": "ba57daec",
   "metadata": {},
   "source": [
    "\n",
    "### JPL Mars Space Images - Featured Image\n",
    "\n",
    "* Visit the url for the Featured Space Image site [here](https://spaceimages\n",
    "\n",
    "* Use splinter to navigate the site and find the image url for the current F\n",
    "Image and assign the url string to a variable called `featured_image_url`.\n",
    "\n",
    "* Make sure to find the image url to the full size `.jpg` image.\n",
    "\n",
    "* Make sure to save a complete url string for this image.\n",
    "\n",
    "```python\n",
    "# Example:\n",
    "featured_image_url = 'https://spaceimages-mars.com/image/featured/mars2.jpg'\n"
   ]
  },
  {
   "cell_type": "code",
   "execution_count": 6,
   "id": "637f3dd7",
   "metadata": {},
   "outputs": [
    {
     "name": "stdout",
     "output_type": "stream",
     "text": [
      "https://www.spaceimages-mars.comimage/featured/mars3.jpg\n"
     ]
    },
    {
     "data": {
      "text/plain": [
       "'https://www.spaceimages-mars.comimage/featured/mars3.jpg'"
      ]
     },
     "execution_count": 6,
     "metadata": {},
     "output_type": "execute_result"
    }
   ],
   "source": [
    "def scrape_feature(brow):\n",
    "    \n",
    "    # URL for JPL Nasa websit-visit\n",
    "    url_jpl = \"https://www.spaceimages-mars.com\"\n",
    "    # Use the browser to visit the url\n",
    "    brow.visit(url_jpl) \n",
    "\n",
    "    full_image_elem = browser.find_by_tag('button')[1]\n",
    "    full_image_elem.click()\n",
    "\n",
    "    html_jpl = brow.html\n",
    "    soup = BeautifulSoup(html_jpl, 'html.parser')\n",
    "\n",
    "    # Featured image is in the div class=\"???\"\n",
    "    space_images = soup.find('img', class_=\"fancybox-image\").get(\"src\")\n",
    "    \n",
    "    # The url for JPL Featured Space Image - at end\n",
    "\n",
    "    # Full url\n",
    "    feature_image_url = f\"{url_jpl}{space_images}\"\n",
    "    print(feature_image_url)\n",
    "    return feature_image_url\n",
    "\n",
    "scrape_feature(browser)\n"
   ]
  },
  {
   "cell_type": "markdown",
   "id": "b30f24d9",
   "metadata": {},
   "source": [
    "### Mars Facts\n",
    "\n",
    "* Visit the Mars Facts webpage [here](https://galaxyfact\n",
    "the table containing facts about the planet including Di\n",
    "\n",
    "* Use Pandas to convert the data to a HTML table string.\n",
    "\n"
   ]
  },
  {
   "cell_type": "code",
   "execution_count": 9,
   "id": "76752e47",
   "metadata": {},
   "outputs": [
    {
     "name": "stdout",
     "output_type": "stream",
     "text": [
      "                                    Mars            Earth\n",
      "Mars - Earth Comparison                                  \n",
      "Diameter:                       6,779 km        12,742 km\n",
      "Mass:                    6.39 × 10^23 kg  5.97 × 10^24 kg\n",
      "Moons:                                 2                1\n",
      "Distance from Sun:        227,943,824 km   149,598,262 km\n",
      "Length of Year:           687 Earth days      365.24 days\n",
      "Temperature:                -87 to -5 °C      -88 to 58°C\n"
     ]
    },
    {
     "data": {
      "text/html": [
       "<div>\n",
       "<style scoped>\n",
       "    .dataframe tbody tr th:only-of-type {\n",
       "        vertical-align: middle;\n",
       "    }\n",
       "\n",
       "    .dataframe tbody tr th {\n",
       "        vertical-align: top;\n",
       "    }\n",
       "\n",
       "    .dataframe thead th {\n",
       "        text-align: right;\n",
       "    }\n",
       "</style>\n",
       "<table border=\"1\" class=\"dataframe\">\n",
       "  <thead>\n",
       "    <tr style=\"text-align: right;\">\n",
       "      <th></th>\n",
       "      <th>Mars</th>\n",
       "      <th>Earth</th>\n",
       "    </tr>\n",
       "    <tr>\n",
       "      <th>Mars - Earth Comparison</th>\n",
       "      <th></th>\n",
       "      <th></th>\n",
       "    </tr>\n",
       "  </thead>\n",
       "  <tbody>\n",
       "    <tr>\n",
       "      <th>Diameter:</th>\n",
       "      <td>6,779 km</td>\n",
       "      <td>12,742 km</td>\n",
       "    </tr>\n",
       "    <tr>\n",
       "      <th>Mass:</th>\n",
       "      <td>6.39 × 10^23 kg</td>\n",
       "      <td>5.97 × 10^24 kg</td>\n",
       "    </tr>\n",
       "    <tr>\n",
       "      <th>Moons:</th>\n",
       "      <td>2</td>\n",
       "      <td>1</td>\n",
       "    </tr>\n",
       "    <tr>\n",
       "      <th>Distance from Sun:</th>\n",
       "      <td>227,943,824 km</td>\n",
       "      <td>149,598,262 km</td>\n",
       "    </tr>\n",
       "    <tr>\n",
       "      <th>Length of Year:</th>\n",
       "      <td>687 Earth days</td>\n",
       "      <td>365.24 days</td>\n",
       "    </tr>\n",
       "    <tr>\n",
       "      <th>Temperature:</th>\n",
       "      <td>-87 to -5 °C</td>\n",
       "      <td>-88 to 58°C</td>\n",
       "    </tr>\n",
       "  </tbody>\n",
       "</table>\n",
       "</div>"
      ],
      "text/plain": [
       "                                    Mars            Earth\n",
       "Mars - Earth Comparison                                  \n",
       "Diameter:                       6,779 km        12,742 km\n",
       "Mass:                    6.39 × 10^23 kg  5.97 × 10^24 kg\n",
       "Moons:                                 2                1\n",
       "Distance from Sun:        227,943,824 km   149,598,262 km\n",
       "Length of Year:           687 Earth days      365.24 days\n",
       "Temperature:                -87 to -5 °C      -88 to 58°C"
      ]
     },
     "execution_count": 9,
     "metadata": {},
     "output_type": "execute_result"
    }
   ],
   "source": [
    "def scrape_mars_facts(brows):\n",
    "    # URL\n",
    "    url_mars_facts = \"https://space-facts.com/mars/\"\n",
    "\n",
    "    # Use Pandas to automatically scrape any tabular data from a page.\n",
    "    mars_facts = pd.read_html(url_mars_facts)\n",
    "    mars_df = mars_facts[1]\n",
    "    #(mars_df)\n",
    "    #How many tables are available\n",
    "    #len(mars_facts)\n",
    "\n",
    "\n",
    "    mars_df.columns=['Mars - Earth Comparison','Mars','Earth']\n",
    "    \n",
    "    mars_df.set_index('Mars - Earth Comparison',inplace=True)\n",
    "    print (mars_df)\n",
    "    #mars_df\n",
    "    \n",
    "    \n",
    "    return mars_df\n",
    "\n",
    "scrape_mars_facts(browser)\n",
    "\n",
    "#    mars_df.to_html()"
   ]
  },
  {
   "cell_type": "code",
   "execution_count": null,
   "id": "de256932",
   "metadata": {},
   "outputs": [],
   "source": []
  },
  {
   "cell_type": "markdown",
   "id": "c57c8118",
   "metadata": {},
   "source": [
    "### Mars Hemispheres\n",
    "\n",
    "* Visit the astrogeology site [here](https://marshemispheres.com/) to \n",
    "obtain high resolution images for each of Mar's hemispheres.\n",
    "\n",
    "* You will need to click each of the links to the hemispheres in order \n",
    "to find the image url to the full resolution image.\n",
    "\n",
    "* Save both the image url string for the full resolution hemisphere \n",
    "image, and the Hemisphere title containing the hemisphere name. Use a \n",
    "Python dictionary to store the data using the keys `img_url` and \n",
    "`title`.\n",
    "\n",
    "* Append the dictionary with the image url string and the hemisphere \n",
    "title to a list. This list will contain one dictionary for each \n",
    "hemisphere.\n"
   ]
  },
  {
   "cell_type": "code",
   "execution_count": 10,
   "id": "8f617b16",
   "metadata": {},
   "outputs": [
    {
     "data": {
      "text/plain": [
       "[{'url': 'https://marshemispheres.com/images/full.jpg',\n",
       "  'title': 'Cerberus Hemisphere Enhanced'},\n",
       " {'url': 'https://marshemispheres.com/images/schiaparelli_enhanced-full.jpg',\n",
       "  'title': 'Schiaparelli Hemisphere Enhanced'},\n",
       " {'url': 'https://marshemispheres.com/images/syrtis_major_enhanced-full.jpg',\n",
       "  'title': 'Syrtis Major Hemisphere Enhanced'},\n",
       " {'url': 'https://marshemispheres.com/images/valles_marineris_enhanced-full.jpg',\n",
       "  'title': 'Valles Marineris Hemisphere Enhanced'}]"
      ]
     },
     "execution_count": 10,
     "metadata": {},
     "output_type": "execute_result"
    }
   ],
   "source": [
    "def scrape_hemis(brows):\n",
    "    # URL of page to be scraped\n",
    "    url_mars_hemispheres='https://marshemispheres.com/'\n",
    "\n",
    "    # Use the browser to visit the url\n",
    "    brows.visit(url_mars_hemispheres)\n",
    "\n",
    "    # Create a list with the name of the hemispheres\n",
    "    list_hemispheres = []\n",
    "\n",
    "    links=brows.find_by_css('a.product-item img')\n",
    "\n",
    "    for i in range(len(links)):\n",
    "        hemis={}\n",
    "        brows.find_by_css('a.product-item img')[i].click()\n",
    "        sample=brows.links.find_by_text('Sample').first\n",
    "        hemis['url']=sample['href']\n",
    "        hemis['title']=brows.find_by_css('h2.title').text\n",
    "\n",
    "        list_hemispheres.append(hemis)\n",
    "        brows.back() \n",
    "        \n",
    "       # mars_hemis_url = f\"{url_mars_hemispheres}{hemis}\"   \n",
    "  \n",
    "    return list_hemispheres\n",
    "\n",
    "scrape_hemis(browser)\n",
    "\n"
   ]
  },
  {
   "cell_type": "code",
   "execution_count": 15,
   "id": "b9d7e947",
   "metadata": {},
   "outputs": [],
   "source": [
    "# When you’ve finished testing, close your browser using browser.quit:\n",
    "browser.quit()"
   ]
  },
  {
   "cell_type": "code",
   "execution_count": 12,
   "id": "5f206efa",
   "metadata": {},
   "outputs": [
    {
     "name": "stdout",
     "output_type": "stream",
     "text": [
      "{'news_title': 'Scientists Explore Outback as Testbed for Mars ', 'news_p': \"Australia provides a great place for NASA's Mars 2020 and the ESA-Roscosmos ExoMars scientists to hone techniques in preparation for searching for signs ancient life on Mars.\"}\n",
      "https://www.spaceimages-mars.comimage/featured/mars1.jpg\n",
      "                                    Mars            Earth\n",
      "Mars - Earth Comparison                                  \n",
      "Diameter:                       6,779 km        12,742 km\n",
      "Mass:                    6.39 × 10^23 kg  5.97 × 10^24 kg\n",
      "Moons:                                 2                1\n",
      "Distance from Sun:        227,943,824 km   149,598,262 km\n",
      "Length of Year:           687 Earth days      365.24 days\n",
      "Temperature:                -87 to -5 °C      -88 to 58°C\n",
      "{'news_title': 'Scientists Explore Outback as Testbed for Mars ', 'news_p': \"Australia provides a great place for NASA's Mars 2020 and the ESA-Roscosmos ExoMars scientists to hone techniques in preparation for searching for signs ancient life on Mars.\", 'feature_image_url': 'https://www.spaceimages-mars.comimage/featured/mars1.jpg', 'hemispheres': [{'url': 'https://marshemispheres.com/images/full.jpg', 'title': 'Cerberus Hemisphere Enhanced'}, {'url': 'https://marshemispheres.com/images/schiaparelli_enhanced-full.jpg', 'title': 'Schiaparelli Hemisphere Enhanced'}, {'url': 'https://marshemispheres.com/images/syrtis_major_enhanced-full.jpg', 'title': 'Syrtis Major Hemisphere Enhanced'}, {'url': 'https://marshemispheres.com/images/valles_marineris_enhanced-full.jpg', 'title': 'Valles Marineris Hemisphere Enhanced'}], 'table_html':                                     Mars            Earth\n",
      "Mars - Earth Comparison                                  \n",
      "Diameter:                       6,779 km        12,742 km\n",
      "Mass:                    6.39 × 10^23 kg  5.97 × 10^24 kg\n",
      "Moons:                                 2                1\n",
      "Distance from Sun:        227,943,824 km   149,598,262 km\n",
      "Length of Year:           687 Earth days      365.24 days\n",
      "Temperature:                -87 to -5 °C      -88 to 58°C}\n",
      "{'news_title': 'Scientists Explore Outback as Testbed for Mars ', 'news_p': \"Australia provides a great place for NASA's Mars 2020 and the ESA-Roscosmos ExoMars scientists to hone techniques in preparation for searching for signs ancient life on Mars.\", 'feature_image_url': 'https://www.spaceimages-mars.comimage/featured/mars1.jpg', 'hemispheres': [{'url': 'https://marshemispheres.com/images/full.jpg', 'title': 'Cerberus Hemisphere Enhanced'}, {'url': 'https://marshemispheres.com/images/schiaparelli_enhanced-full.jpg', 'title': 'Schiaparelli Hemisphere Enhanced'}, {'url': 'https://marshemispheres.com/images/syrtis_major_enhanced-full.jpg', 'title': 'Syrtis Major Hemisphere Enhanced'}, {'url': 'https://marshemispheres.com/images/valles_marineris_enhanced-full.jpg', 'title': 'Valles Marineris Hemisphere Enhanced'}], 'table_html':                                     Mars            Earth\n",
      "Mars - Earth Comparison                                  \n",
      "Diameter:                       6,779 km        12,742 km\n",
      "Mass:                    6.39 × 10^23 kg  5.97 × 10^24 kg\n",
      "Moons:                                 2                1\n",
      "Distance from Sun:        227,943,824 km   149,598,262 km\n",
      "Length of Year:           687 Earth days      365.24 days\n",
      "Temperature:                -87 to -5 °C      -88 to 58°C}\n"
     ]
    }
   ],
   "source": [
    "#calling the function -- pass browser to the function\n",
    "print(scrape_all(browser))"
   ]
  },
  {
   "cell_type": "code",
   "execution_count": null,
   "id": "9fc0106c",
   "metadata": {},
   "outputs": [],
   "source": []
  }
 ],
 "metadata": {
  "kernelspec": {
   "display_name": "Python 3",
   "language": "python",
   "name": "python3"
  },
  "language_info": {
   "codemirror_mode": {
    "name": "ipython",
    "version": 3
   },
   "file_extension": ".py",
   "mimetype": "text/x-python",
   "name": "python",
   "nbconvert_exporter": "python",
   "pygments_lexer": "ipython3",
   "version": "3.8.8"
  }
 },
 "nbformat": 4,
 "nbformat_minor": 5
}
